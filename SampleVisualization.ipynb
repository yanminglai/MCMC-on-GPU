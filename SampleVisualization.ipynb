{
 "cells": [
  {
   "cell_type": "code",
   "execution_count": 1,
   "metadata": {},
   "outputs": [],
   "source": [
    "import pandas as pd\n",
    "import matplotlib.pyplot as plt\n",
    "#matplotlib inline"
   ]
  },
  {
   "cell_type": "code",
   "execution_count": 4,
   "metadata": {},
   "outputs": [],
   "source": [
    "data = pd.read_csv(\"MCMC_CPU/samples.csv\", header=None)"
   ]
  },
  {
   "cell_type": "code",
   "execution_count": 6,
   "metadata": {},
   "outputs": [
    {
     "data": {
      "text/plain": [
       "(array([[  1.,   3.,   3.,   0.,   0.,   0.,   0.,   0.,   0.,   0.],\n",
       "        [ 14.,  31.,  29.,   9.,   0.,   1.,   0.,   0.,   0.,   0.],\n",
       "        [ 15., 109., 188., 129.,  53.,   8.,   2.,   0.,   0.,   0.],\n",
       "        [  6.,  87., 384., 529., 350., 138.,  15.,   0.,   0.,   0.],\n",
       "        [  5.,  10., 289., 745., 949., 599., 194.,  22.,   0.,   0.],\n",
       "        [  0.,   4.,  51., 329., 699., 944., 632., 133.,   7.,   0.],\n",
       "        [  0.,   0.,   0.,  35., 142., 438., 612., 256.,  45.,   4.],\n",
       "        [  0.,   0.,   0.,   1.,  16.,  88., 200., 234.,  80.,  13.],\n",
       "        [  0.,   0.,   0.,   0.,   0.,   3.,  23.,  33.,  34.,   0.],\n",
       "        [  0.,   0.,   0.,   0.,   0.,   0.,   0.,   3.,  17.,   7.]]),\n",
       " array([-3.84772 , -3.074543, -2.301366, -1.528189, -0.755012,  0.018165,\n",
       "         0.791342,  1.564519,  2.337696,  3.110873,  3.88405 ]),\n",
       " array([-4.81702 , -3.810752, -2.804484, -1.798216, -0.791948,  0.21432 ,\n",
       "         1.220588,  2.226856,  3.233124,  4.239392,  5.24566 ]),\n",
       " <matplotlib.collections.QuadMesh at 0x116c520f0>)"
      ]
     },
     "execution_count": 6,
     "metadata": {},
     "output_type": "execute_result"
    },
    {
     "data": {
      "image/png": "[encoded data removed]",
      "text/plain": [
       "<Figure size 432x288 with 1 Axes>"
      ]
     },
     "metadata": {
      "needs_background": "light"
     },
     "output_type": "display_data"
    }
   ],
   "source": [
    "plt.hist2d(data[0], data[1], bins=(10,10))"
   ]
  },
  {
   "cell_type": "code",
   "execution_count": null,
   "metadata": {},
   "outputs": [],
   "source": []
  }
 ],
 "metadata": {
  "kernelspec": {
   "display_name": "Python 3",
   "language": "python",
   "name": "python3"
  },
  "language_info": {
   "codemirror_mode": {
    "name": "ipython",
    "version": 3
   },
   "file_extension": ".py",
   "mimetype": "text/x-python",
   "name": "python",
   "nbconvert_exporter": "python",
   "pygments_lexer": "ipython3",
   "version": "3.7.1"
  }
 },
 "nbformat": 4,
 "nbformat_minor": 2
}
